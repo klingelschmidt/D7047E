{
 "cells": [
  {
   "cell_type": "code",
   "execution_count": 19,
   "metadata": {
    "colab": {
     "base_uri": "https://localhost:8080/"
    },
    "id": "mE-oMQf1DdkN",
    "outputId": "d41f42a1-cc53-40ff-8025-21fb3c64ccb8"
   },
   "outputs": [
    {
     "name": "stdout",
     "output_type": "stream",
     "text": [
      "The tensorboard extension is already loaded. To reload it, use:\n",
      "  %reload_ext tensorboard\n"
     ]
    }
   ],
   "source": [
    "# Load the TensorBoard notebook extension\n",
    "%load_ext tensorboard\n",
    "\n",
    "import torch\n",
    "import torch.nn as nn\n",
    "import torch.nn.functional as F\n",
    "import torch.optim as optim\n",
    "from torch.utils.data import DataLoader\n",
    "from tensorflow.keras import datasets, layers, models\n",
    "import tensorflow.keras.optimizers as optim\n",
    "import tensorflow as tf\n",
    "import datetime, os\n",
    "import numpy as np\n",
    "import copy\n",
    "import math\n",
    "import matplotlib.pyplot as plt"
   ]
  },
  {
   "cell_type": "code",
   "execution_count": 20,
   "metadata": {
    "colab": {
     "base_uri": "https://localhost:8080/"
    },
    "id": "451jM9eo-aaH",
    "outputId": "ef7af928-f180-4fe5-e90e-fd7fe364d057"
   },
   "outputs": [],
   "source": [
    "(train_images, train_labels), (test_images, test_labels) = datasets.cifar10.load_data()\n",
    "\n",
    "# Normalize pixel values to be between 0 and 1\n",
    "train_images, test_images = train_images / 255.0, test_images / 255.0"
   ]
  },
  {
   "cell_type": "code",
   "execution_count": null,
   "metadata": {
    "id": "ujUe1SvrzlGW"
   },
   "outputs": [],
   "source": [
    "# Network\n",
    "\n",
    "# conv, relu, pooling, flatten, fully connected, softmax"
   ]
  },
  {
   "cell_type": "code",
   "execution_count": 21,
   "metadata": {
    "id": "y18yro-p0dIV"
   },
   "outputs": [],
   "source": [
    "model = models.Sequential()\n",
    "model.add(layers.Conv2D(32, (3, 3), activation='tanh', input_shape=(32, 32, 3)))\n",
    "model.add(layers.MaxPooling2D((2, 2)))\n",
    "model.add(layers.Conv2D(64, (3, 3), activation='tanh'))\n",
    "model.add(layers.MaxPooling2D((2, 2)))\n",
    "model.add(layers.Conv2D(64, (3, 3), activation='tanh'))\n",
    "model.add(layers.Flatten())\n",
    "model.add(layers.Dense(64, activation='tanh'))\n",
    "model.add(layers.Dense(10))"
   ]
  },
  {
   "cell_type": "code",
   "execution_count": 22,
   "metadata": {
    "colab": {
     "base_uri": "https://localhost:8080/"
    },
    "id": "VVWIIQlA9oSW",
    "outputId": "3c25ee73-6541-43e9-dc90-dd8eae38804a",
    "scrolled": true
   },
   "outputs": [
    {
     "name": "stdout",
     "output_type": "stream",
     "text": [
      "Epoch 1/100\n",
      "WARNING:tensorflow:Trace already enabled\n",
      "1563/1563 [==============================] - 20s 13ms/step - loss: 1.7274 - accuracy: 0.3826 - val_loss: 1.5162 - val_accuracy: 0.4601\n",
      "Epoch 2/100\n",
      "1563/1563 [==============================] - 20s 13ms/step - loss: 1.4522 - accuracy: 0.4857 - val_loss: 1.4333 - val_accuracy: 0.4885\n",
      "Epoch 3/100\n",
      "1563/1563 [==============================] - 20s 12ms/step - loss: 1.3564 - accuracy: 0.5228 - val_loss: 1.3587 - val_accuracy: 0.5249\n",
      "Epoch 4/100\n",
      "1563/1563 [==============================] - 20s 13ms/step - loss: 1.2822 - accuracy: 0.5528 - val_loss: 1.3114 - val_accuracy: 0.5432\n",
      "Epoch 5/100\n",
      "1563/1563 [==============================] - 20s 13ms/step - loss: 1.2213 - accuracy: 0.5755 - val_loss: 1.2153 - val_accuracy: 0.5763\n",
      "Epoch 6/100\n",
      "1563/1563 [==============================] - 20s 13ms/step - loss: 1.1731 - accuracy: 0.5897 - val_loss: 1.1754 - val_accuracy: 0.5876\n",
      "Epoch 7/100\n",
      "1563/1563 [==============================] - 20s 13ms/step - loss: 1.1315 - accuracy: 0.6055 - val_loss: 1.1568 - val_accuracy: 0.5984\n",
      "Epoch 8/100\n",
      "1563/1563 [==============================] - 20s 13ms/step - loss: 1.0960 - accuracy: 0.6207 - val_loss: 1.0997 - val_accuracy: 0.6201\n",
      "Epoch 9/100\n",
      "1563/1563 [==============================] - 20s 13ms/step - loss: 1.0662 - accuracy: 0.6284 - val_loss: 1.0866 - val_accuracy: 0.6206\n",
      "Epoch 10/100\n",
      "1563/1563 [==============================] - 20s 13ms/step - loss: 1.0372 - accuracy: 0.6405 - val_loss: 1.0704 - val_accuracy: 0.6310\n",
      "Epoch 11/100\n",
      "1563/1563 [==============================] - 20s 13ms/step - loss: 1.0117 - accuracy: 0.6497 - val_loss: 1.0678 - val_accuracy: 0.6334\n",
      "Epoch 12/100\n",
      "1563/1563 [==============================] - 21s 13ms/step - loss: 0.9893 - accuracy: 0.6585 - val_loss: 1.0489 - val_accuracy: 0.6369\n",
      "Epoch 13/100\n",
      "1563/1563 [==============================] - 20s 13ms/step - loss: 0.9697 - accuracy: 0.6652 - val_loss: 1.0263 - val_accuracy: 0.6489\n",
      "Epoch 14/100\n",
      "1563/1563 [==============================] - 20s 13ms/step - loss: 0.9489 - accuracy: 0.6731 - val_loss: 0.9977 - val_accuracy: 0.6543\n",
      "Epoch 15/100\n",
      "1563/1563 [==============================] - 20s 13ms/step - loss: 0.9297 - accuracy: 0.6799 - val_loss: 1.0150 - val_accuracy: 0.6488\n",
      "Epoch 16/100\n",
      "1563/1563 [==============================] - 20s 13ms/step - loss: 0.9098 - accuracy: 0.6868 - val_loss: 1.0086 - val_accuracy: 0.6507\n",
      "Epoch 17/100\n",
      "1563/1563 [==============================] - 20s 13ms/step - loss: 0.8963 - accuracy: 0.6913 - val_loss: 0.9647 - val_accuracy: 0.6629\n",
      "Epoch 18/100\n",
      "1563/1563 [==============================] - 20s 13ms/step - loss: 0.8784 - accuracy: 0.6960 - val_loss: 0.9590 - val_accuracy: 0.6684\n",
      "Epoch 19/100\n",
      "1563/1563 [==============================] - 20s 13ms/step - loss: 0.8633 - accuracy: 0.7031 - val_loss: 0.9523 - val_accuracy: 0.6683\n",
      "Epoch 20/100\n",
      "1563/1563 [==============================] - 20s 13ms/step - loss: 0.8461 - accuracy: 0.7104 - val_loss: 0.9441 - val_accuracy: 0.6684\n",
      "Epoch 21/100\n",
      "1563/1563 [==============================] - 20s 13ms/step - loss: 0.8327 - accuracy: 0.7141 - val_loss: 0.9493 - val_accuracy: 0.6725\n",
      "Epoch 22/100\n",
      "1563/1563 [==============================] - 20s 13ms/step - loss: 0.8200 - accuracy: 0.7203 - val_loss: 0.9228 - val_accuracy: 0.6777\n",
      "Epoch 23/100\n",
      "1563/1563 [==============================] - 20s 13ms/step - loss: 0.8040 - accuracy: 0.7240 - val_loss: 0.9360 - val_accuracy: 0.6733\n",
      "Epoch 24/100\n",
      "1563/1563 [==============================] - 20s 13ms/step - loss: 0.7934 - accuracy: 0.7303 - val_loss: 0.9166 - val_accuracy: 0.6818\n",
      "Epoch 25/100\n",
      "1563/1563 [==============================] - 20s 13ms/step - loss: 0.7792 - accuracy: 0.7323 - val_loss: 0.9138 - val_accuracy: 0.6813\n",
      "Epoch 26/100\n",
      "1563/1563 [==============================] - 20s 13ms/step - loss: 0.7671 - accuracy: 0.7375 - val_loss: 0.9068 - val_accuracy: 0.6848\n",
      "Epoch 27/100\n",
      "1563/1563 [==============================] - 20s 13ms/step - loss: 0.7542 - accuracy: 0.7424 - val_loss: 0.9131 - val_accuracy: 0.6866\n",
      "Epoch 28/100\n",
      "1563/1563 [==============================] - 20s 13ms/step - loss: 0.7433 - accuracy: 0.7470 - val_loss: 0.9225 - val_accuracy: 0.6796\n",
      "Epoch 29/100\n",
      "1563/1563 [==============================] - 20s 13ms/step - loss: 0.7325 - accuracy: 0.7510 - val_loss: 0.8931 - val_accuracy: 0.6927\n",
      "Epoch 30/100\n",
      "1563/1563 [==============================] - 20s 13ms/step - loss: 0.7200 - accuracy: 0.7545 - val_loss: 0.8897 - val_accuracy: 0.6894\n",
      "Epoch 31/100\n",
      "1563/1563 [==============================] - 20s 13ms/step - loss: 0.7085 - accuracy: 0.7576 - val_loss: 0.8859 - val_accuracy: 0.6935\n",
      "Epoch 32/100\n",
      "1563/1563 [==============================] - 20s 13ms/step - loss: 0.6989 - accuracy: 0.7616 - val_loss: 0.8969 - val_accuracy: 0.6921\n",
      "Epoch 33/100\n",
      "1563/1563 [==============================] - 19s 12ms/step - loss: 0.6859 - accuracy: 0.7654 - val_loss: 0.8943 - val_accuracy: 0.6924\n",
      "Epoch 34/100\n",
      "1563/1563 [==============================] - 20s 12ms/step - loss: 0.6775 - accuracy: 0.7693 - val_loss: 0.8864 - val_accuracy: 0.6959\n",
      "Epoch 35/100\n",
      "1563/1563 [==============================] - 19s 12ms/step - loss: 0.6650 - accuracy: 0.7731 - val_loss: 0.8912 - val_accuracy: 0.6936\n",
      "Epoch 36/100\n",
      "1563/1563 [==============================] - 20s 13ms/step - loss: 0.6565 - accuracy: 0.7777 - val_loss: 0.8936 - val_accuracy: 0.6908\n",
      "Epoch 37/100\n",
      "1563/1563 [==============================] - 20s 13ms/step - loss: 0.6469 - accuracy: 0.7809 - val_loss: 0.8858 - val_accuracy: 0.6973\n",
      "Epoch 38/100\n",
      "1563/1563 [==============================] - 20s 13ms/step - loss: 0.6376 - accuracy: 0.7821 - val_loss: 0.8890 - val_accuracy: 0.6992\n",
      "Epoch 39/100\n",
      "1563/1563 [==============================] - 19s 12ms/step - loss: 0.6265 - accuracy: 0.7867 - val_loss: 0.8785 - val_accuracy: 0.7010\n",
      "Epoch 40/100\n",
      "1563/1563 [==============================] - 20s 13ms/step - loss: 0.6160 - accuracy: 0.7903 - val_loss: 0.8852 - val_accuracy: 0.7023\n",
      "Epoch 41/100\n",
      "1563/1563 [==============================] - 20s 13ms/step - loss: 0.6081 - accuracy: 0.7947 - val_loss: 0.8703 - val_accuracy: 0.7055\n",
      "Epoch 42/100\n",
      "1563/1563 [==============================] - 20s 13ms/step - loss: 0.5985 - accuracy: 0.7972 - val_loss: 0.8848 - val_accuracy: 0.7003\n",
      "Epoch 43/100\n",
      "1563/1563 [==============================] - 20s 13ms/step - loss: 0.5906 - accuracy: 0.7992 - val_loss: 0.8813 - val_accuracy: 0.7049\n",
      "Epoch 44/100\n",
      "1563/1563 [==============================] - 20s 13ms/step - loss: 0.5781 - accuracy: 0.8059 - val_loss: 0.8858 - val_accuracy: 0.7018\n",
      "Epoch 45/100\n",
      "1563/1563 [==============================] - 20s 13ms/step - loss: 0.5708 - accuracy: 0.8074 - val_loss: 0.8935 - val_accuracy: 0.7011\n",
      "Epoch 46/100\n",
      "1563/1563 [==============================] - 20s 13ms/step - loss: 0.5607 - accuracy: 0.8110 - val_loss: 0.8920 - val_accuracy: 0.7001\n",
      "Epoch 47/100\n",
      "1563/1563 [==============================] - 20s 13ms/step - loss: 0.5534 - accuracy: 0.8148 - val_loss: 0.8785 - val_accuracy: 0.7046\n",
      "Epoch 48/100\n",
      "1563/1563 [==============================] - 20s 13ms/step - loss: 0.5433 - accuracy: 0.8192 - val_loss: 0.8774 - val_accuracy: 0.7083\n",
      "Epoch 49/100\n",
      "1563/1563 [==============================] - 20s 13ms/step - loss: 0.5348 - accuracy: 0.8213 - val_loss: 0.8927 - val_accuracy: 0.7024\n",
      "Epoch 50/100\n",
      "1563/1563 [==============================] - 20s 13ms/step - loss: 0.5261 - accuracy: 0.8226 - val_loss: 0.8929 - val_accuracy: 0.7035\n",
      "Epoch 51/100\n",
      "1563/1563 [==============================] - 20s 13ms/step - loss: 0.5195 - accuracy: 0.8267 - val_loss: 0.8873 - val_accuracy: 0.7111\n",
      "Epoch 52/100\n",
      "1563/1563 [==============================] - 20s 13ms/step - loss: 0.5103 - accuracy: 0.8289 - val_loss: 0.8999 - val_accuracy: 0.7022\n",
      "Epoch 53/100\n",
      "1563/1563 [==============================] - 20s 13ms/step - loss: 0.5018 - accuracy: 0.8320 - val_loss: 0.9018 - val_accuracy: 0.7064\n",
      "Epoch 54/100\n",
      "1563/1563 [==============================] - 20s 13ms/step - loss: 0.4926 - accuracy: 0.8357 - val_loss: 0.9095 - val_accuracy: 0.7015\n",
      "Epoch 55/100\n",
      "1563/1563 [==============================] - 20s 13ms/step - loss: 0.4837 - accuracy: 0.8389 - val_loss: 0.9177 - val_accuracy: 0.6988\n",
      "Epoch 56/100\n"
     ]
    },
    {
     "name": "stdout",
     "output_type": "stream",
     "text": [
      "1563/1563 [==============================] - 20s 13ms/step - loss: 0.4764 - accuracy: 0.8415 - val_loss: 0.9246 - val_accuracy: 0.6989\n",
      "Epoch 57/100\n",
      "1563/1563 [==============================] - 20s 13ms/step - loss: 0.4678 - accuracy: 0.8451 - val_loss: 0.9113 - val_accuracy: 0.7033\n",
      "Epoch 58/100\n",
      "1563/1563 [==============================] - 20s 13ms/step - loss: 0.4606 - accuracy: 0.8484 - val_loss: 0.9122 - val_accuracy: 0.7080\n",
      "Epoch 59/100\n",
      "1563/1563 [==============================] - 20s 13ms/step - loss: 0.4514 - accuracy: 0.8522 - val_loss: 0.9168 - val_accuracy: 0.7048\n",
      "Epoch 60/100\n",
      "1563/1563 [==============================] - 20s 13ms/step - loss: 0.4436 - accuracy: 0.8551 - val_loss: 0.9187 - val_accuracy: 0.7071\n",
      "Epoch 61/100\n",
      "1563/1563 [==============================] - 19s 12ms/step - loss: 0.4354 - accuracy: 0.8568 - val_loss: 0.9500 - val_accuracy: 0.6998\n",
      "Epoch 62/100\n",
      "1563/1563 [==============================] - 20s 13ms/step - loss: 0.4302 - accuracy: 0.8598 - val_loss: 0.9366 - val_accuracy: 0.7015\n",
      "Epoch 63/100\n",
      "1563/1563 [==============================] - 20s 13ms/step - loss: 0.4205 - accuracy: 0.8625 - val_loss: 0.9499 - val_accuracy: 0.6993\n",
      "Epoch 64/100\n",
      "1563/1563 [==============================] - 20s 13ms/step - loss: 0.4127 - accuracy: 0.8664 - val_loss: 0.9286 - val_accuracy: 0.7025\n",
      "Epoch 65/100\n",
      "1563/1563 [==============================] - 20s 13ms/step - loss: 0.4048 - accuracy: 0.8696 - val_loss: 0.9543 - val_accuracy: 0.7000\n",
      "Epoch 66/100\n",
      "1563/1563 [==============================] - 20s 13ms/step - loss: 0.3983 - accuracy: 0.8705 - val_loss: 0.9362 - val_accuracy: 0.7062\n",
      "Epoch 67/100\n",
      "1563/1563 [==============================] - 20s 13ms/step - loss: 0.3888 - accuracy: 0.8751 - val_loss: 0.9533 - val_accuracy: 0.7001\n",
      "Epoch 68/100\n",
      "1563/1563 [==============================] - 20s 13ms/step - loss: 0.3817 - accuracy: 0.8779 - val_loss: 0.9588 - val_accuracy: 0.7034\n",
      "Epoch 69/100\n",
      "1563/1563 [==============================] - 20s 12ms/step - loss: 0.3751 - accuracy: 0.8799 - val_loss: 0.9578 - val_accuracy: 0.7031\n",
      "Epoch 70/100\n",
      "1563/1563 [==============================] - 20s 13ms/step - loss: 0.3664 - accuracy: 0.8836 - val_loss: 0.9853 - val_accuracy: 0.6965\n",
      "Epoch 71/100\n",
      "1563/1563 [==============================] - 20s 13ms/step - loss: 0.3602 - accuracy: 0.8857 - val_loss: 0.9662 - val_accuracy: 0.6966\n",
      "Epoch 72/100\n",
      "1563/1563 [==============================] - 20s 13ms/step - loss: 0.3524 - accuracy: 0.8872 - val_loss: 0.9831 - val_accuracy: 0.6976\n",
      "Epoch 73/100\n",
      "1563/1563 [==============================] - 20s 13ms/step - loss: 0.3441 - accuracy: 0.8932 - val_loss: 1.0007 - val_accuracy: 0.6963\n",
      "Epoch 74/100\n",
      "1563/1563 [==============================] - 20s 13ms/step - loss: 0.3390 - accuracy: 0.8942 - val_loss: 1.0083 - val_accuracy: 0.6968\n",
      "Epoch 75/100\n",
      "1563/1563 [==============================] - 20s 13ms/step - loss: 0.3299 - accuracy: 0.8989 - val_loss: 1.0000 - val_accuracy: 0.6967\n",
      "Epoch 76/100\n",
      "1563/1563 [==============================] - 20s 13ms/step - loss: 0.3235 - accuracy: 0.8998 - val_loss: 1.0110 - val_accuracy: 0.6927\n",
      "Epoch 77/100\n",
      "1563/1563 [==============================] - 20s 13ms/step - loss: 0.3150 - accuracy: 0.9047 - val_loss: 1.0159 - val_accuracy: 0.6936\n",
      "Epoch 78/100\n",
      "1563/1563 [==============================] - 20s 13ms/step - loss: 0.3095 - accuracy: 0.9046 - val_loss: 1.0320 - val_accuracy: 0.6893\n",
      "Epoch 79/100\n",
      "1563/1563 [==============================] - 20s 12ms/step - loss: 0.3020 - accuracy: 0.9082 - val_loss: 1.0323 - val_accuracy: 0.6945\n",
      "Epoch 80/100\n",
      "1563/1563 [==============================] - 19s 12ms/step - loss: 0.2950 - accuracy: 0.9107 - val_loss: 1.0353 - val_accuracy: 0.6922\n",
      "Epoch 81/100\n",
      "1563/1563 [==============================] - 20s 12ms/step - loss: 0.2862 - accuracy: 0.9157 - val_loss: 1.0479 - val_accuracy: 0.6952\n",
      "Epoch 82/100\n",
      "1563/1563 [==============================] - 19s 12ms/step - loss: 0.2806 - accuracy: 0.9157 - val_loss: 1.0387 - val_accuracy: 0.6953\n",
      "Epoch 83/100\n",
      "1563/1563 [==============================] - 20s 13ms/step - loss: 0.2731 - accuracy: 0.9197 - val_loss: 1.0531 - val_accuracy: 0.6921\n",
      "Epoch 84/100\n",
      "1563/1563 [==============================] - 20s 13ms/step - loss: 0.2664 - accuracy: 0.9219 - val_loss: 1.0701 - val_accuracy: 0.6889\n",
      "Epoch 85/100\n",
      "1563/1563 [==============================] - 20s 12ms/step - loss: 0.2588 - accuracy: 0.9265 - val_loss: 1.0840 - val_accuracy: 0.6920\n",
      "Epoch 86/100\n",
      "1563/1563 [==============================] - 20s 13ms/step - loss: 0.2546 - accuracy: 0.9271 - val_loss: 1.0901 - val_accuracy: 0.6899\n",
      "Epoch 87/100\n",
      "1563/1563 [==============================] - 20s 12ms/step - loss: 0.2466 - accuracy: 0.9298 - val_loss: 1.0797 - val_accuracy: 0.6952\n",
      "Epoch 88/100\n",
      "1563/1563 [==============================] - 20s 13ms/step - loss: 0.2408 - accuracy: 0.9323 - val_loss: 1.0996 - val_accuracy: 0.6921\n",
      "Epoch 89/100\n",
      "1563/1563 [==============================] - 20s 13ms/step - loss: 0.2316 - accuracy: 0.9362 - val_loss: 1.1107 - val_accuracy: 0.6905\n",
      "Epoch 90/100\n",
      "1563/1563 [==============================] - 20s 13ms/step - loss: 0.2273 - accuracy: 0.9375 - val_loss: 1.1102 - val_accuracy: 0.6905\n",
      "Epoch 91/100\n",
      "1563/1563 [==============================] - 20s 13ms/step - loss: 0.2202 - accuracy: 0.9405 - val_loss: 1.1159 - val_accuracy: 0.6921\n",
      "Epoch 92/100\n",
      "1563/1563 [==============================] - 20s 12ms/step - loss: 0.2142 - accuracy: 0.9423 - val_loss: 1.1371 - val_accuracy: 0.6877\n",
      "Epoch 93/100\n",
      "1563/1563 [==============================] - 20s 12ms/step - loss: 0.2083 - accuracy: 0.9453 - val_loss: 1.1487 - val_accuracy: 0.6855\n",
      "Epoch 94/100\n",
      "1563/1563 [==============================] - 20s 13ms/step - loss: 0.2011 - accuracy: 0.9483 - val_loss: 1.1485 - val_accuracy: 0.6880\n",
      "Epoch 95/100\n",
      "1563/1563 [==============================] - 20s 13ms/step - loss: 0.1953 - accuracy: 0.9506 - val_loss: 1.1609 - val_accuracy: 0.6877\n",
      "Epoch 96/100\n",
      "1563/1563 [==============================] - 19s 12ms/step - loss: 0.1888 - accuracy: 0.9539 - val_loss: 1.1822 - val_accuracy: 0.6820\n",
      "Epoch 97/100\n",
      "1563/1563 [==============================] - 20s 13ms/step - loss: 0.1836 - accuracy: 0.9554 - val_loss: 1.1795 - val_accuracy: 0.6848\n",
      "Epoch 98/100\n",
      "1563/1563 [==============================] - 20s 13ms/step - loss: 0.1771 - accuracy: 0.9578 - val_loss: 1.1961 - val_accuracy: 0.6860\n",
      "Epoch 99/100\n",
      "1563/1563 [==============================] - 19s 12ms/step - loss: 0.1715 - accuracy: 0.9593 - val_loss: 1.2166 - val_accuracy: 0.6844\n",
      "Epoch 100/100\n",
      "1563/1563 [==============================] - 20s 13ms/step - loss: 0.1667 - accuracy: 0.9608 - val_loss: 1.2248 - val_accuracy: 0.6850\n"
     ]
    }
   ],
   "source": [
    "model.compile(optimizer=optim.Adam(learning_rate=0.0001),\n",
    "              loss=tf.keras.losses.SparseCategoricalCrossentropy(from_logits=True),\n",
    "              metrics=['accuracy'])\n",
    "tensorboard_callback = tf.keras.callbacks.TensorBoard(log_dir=datetime.datetime.now().strftime(\"%Y%m%d-%H%M%S\"), histogram_freq=1)\n",
    "\n",
    "history = model.fit(train_images, train_labels, epochs=100, \n",
    "                    validation_data=(test_images, test_labels), callbacks=[tensorboard_callback])\n"
   ]
  },
  {
   "cell_type": "code",
   "execution_count": 23,
   "metadata": {
    "id": "CkxjPHr-9r1T"
   },
   "outputs": [
    {
     "name": "stdout",
     "output_type": "stream",
     "text": [
      "313/313 - 2s - loss: 1.2248 - accuracy: 0.6850\n"
     ]
    },
    {
     "data": {
      "image/png": "[encoded data removed]",
      "text/plain": [
       "<Figure size 432x288 with 1 Axes>"
      ]
     },
     "metadata": {
      "needs_background": "light"
     },
     "output_type": "display_data"
    }
   ],
   "source": [
    "plt.plot(history.history['accuracy'], label='accuracy')\n",
    "plt.plot(history.history['val_accuracy'], label = 'val_accuracy')\n",
    "plt.xlabel('Epoch')\n",
    "plt.ylabel('Accuracy')\n",
    "plt.ylim([0.5, 1])\n",
    "plt.legend(loc='lower right')\n",
    "\n",
    "test_loss, test_acc = model.evaluate(test_images,  test_labels, verbose=2)"
   ]
  },
  {
   "cell_type": "code",
   "execution_count": 24,
   "metadata": {
    "id": "ugXfCNqm9snG"
   },
   "outputs": [
    {
     "data": {
      "text/plain": [
       "'/root/results.zip.zip'"
      ]
     },
     "execution_count": 24,
     "metadata": {},
     "output_type": "execute_result"
    }
   ],
   "source": [
    "from shutil import make_archive\n",
    "make_archive('results.zip', 'zip', \"20220408-085457\")"
   ]
  },
  {
   "cell_type": "code",
   "execution_count": null,
   "metadata": {},
   "outputs": [],
   "source": []
  }
 ],
 "metadata": {
  "colab": {
   "collapsed_sections": [],
   "name": "D7047E Assignment 1.ipynb",
   "provenance": []
  },
  "kernelspec": {
   "display_name": "Python 3",
   "language": "python",
   "name": "python3"
  },
  "language_info": {
   "codemirror_mode": {
    "name": "ipython",
    "version": 3
   },
   "file_extension": ".py",
   "mimetype": "text/x-python",
   "name": "python",
   "nbconvert_exporter": "python",
   "pygments_lexer": "ipython3",
   "version": "3.6.9"
  }
 },
 "nbformat": 4,
 "nbformat_minor": 1
}
